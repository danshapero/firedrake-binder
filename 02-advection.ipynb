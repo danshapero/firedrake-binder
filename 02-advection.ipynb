{
 "cells": [
  {
   "cell_type": "code",
   "execution_count": null,
   "metadata": {},
   "outputs": [],
   "source": [
    "%matplotlib notebook\n",
    "import firedrake"
   ]
  },
  {
   "cell_type": "markdown",
   "metadata": {},
   "source": [
    "### Advection\n",
    "\n",
    "The previous examples showed *elliptic* problems like the Poisson equation, where the solution is very smooth, you can use about any continuous shape functions, and you get nice symmetric positive-definite matrices.\n",
    "But the night is dark and full of terrors, or, hyperbolic conservation laws.\n",
    "These are the kinds of problems that the finite volume method was invented for.\n",
    "We'll start with the advection equation\n",
    "\n",
    "$$\\frac{\\partial}{\\partial t}h + \\nabla\\cdot hu = 0$$\n",
    "\n",
    "for the field $h$, where $u$ is a velocity field.\n",
    "\n",
    "The **discontinuous Galerkin** method is a way to solve problems like the advection equation by using discontinuous shape functions.\n",
    "It's similar in many respects to the finite volume method and actually includes the FVM as a special case.\n",
    "First, we'll create the velocity field describing solid-body rotation about the origin."
   ]
  },
  {
   "cell_type": "code",
   "execution_count": null,
   "metadata": {},
   "outputs": [],
   "source": [
    "mesh = firedrake.UnitDiskMesh(4)\n",
    "x = firedrake.SpatialCoordinate(mesh)\n",
    "V = firedrake.VectorFunctionSpace(mesh, family='CG', degree=1)\n",
    "u = firedrake.interpolate(firedrake.as_vector((-x[1], x[0])), V)"
   ]
  },
  {
   "cell_type": "code",
   "execution_count": null,
   "metadata": {},
   "outputs": [],
   "source": [
    "import matplotlib.pyplot as plt\n",
    "fig, axes = plt.subplots()\n",
    "firedrake.streamplot(u, axes=axes)"
   ]
  },
  {
   "cell_type": "markdown",
   "metadata": {},
   "source": [
    "To create a discontinuous function space, we pass the argument `'DG'` for discontinuous Galerkin as the `family`.\n",
    "Here we'll use degree 0 polynomials, i.e. piecewise constant in each cell."
   ]
  },
  {
   "cell_type": "code",
   "execution_count": null,
   "metadata": {},
   "outputs": [],
   "source": [
    "Q = firedrake.FunctionSpace(mesh, family='DG', degree=0)"
   ]
  },
  {
   "cell_type": "markdown",
   "metadata": {},
   "source": [
    "Next we need to pick an initial condition.\n",
    "For discontinuous spaces, we use the `project` function instead of `interpolate`."
   ]
  },
  {
   "cell_type": "code",
   "execution_count": null,
   "metadata": {},
   "outputs": [],
   "source": [
    "from firedrake import inner, sqrt, min_value, max_value\n",
    "x0 = firedrake.Constant((1/2, 0.))\n",
    "r = sqrt(inner(x - x0, x - x0))\n",
    "R = firedrake.Constant(1/4)\n",
    "h0 = firedrake.project(max_value(1 - r / R, 0), Q)"
   ]
  },
  {
   "cell_type": "code",
   "execution_count": null,
   "metadata": {},
   "outputs": [],
   "source": [
    "fig, axes = plt.subplots()\n",
    "triangles = firedrake.tripcolor(h0, axes=axes)\n",
    "fig.colorbar(triangles)"
   ]
  },
  {
   "cell_type": "markdown",
   "metadata": {},
   "source": [
    "The weak form of the advection equation is more involved than for, say, the Poisson equation.\n",
    "It involves integration not just over the whole domain, but over all the edges $E$ of the computational mesh.\n",
    "We also have to pick a numerical flux function $F$ which depends on the solution $h$, the velocity $u$, and the normal vector $n$ to each cell of the mesh.\n",
    "**If we're using upwinding, then the numerical flux is**\n",
    "\n",
    "$$F = h\\max\\{u\\cdot n, 0\\}.$$\n",
    "\n",
    "This is by far the most common choice but there are others, e.g. approximate Riemann solvers.\n",
    "\n",
    "Let $u_+$, $h_+$, $n_+$ be the values of the velocity, thickness, and unit normal vector on one side of the edge $E$, with a $-$ subscript representing the values on the other side.\n",
    "Then the main part of the weak form is:\n",
    "\n",
    "$$\\int_\\Omega\\frac{\\partial h}{\\partial t}q\\, dx + \\sum_E\\int_E\\left\\{F(h_+, u_+, n_+) - F(u_-, h_-, n_-)\\right\\}\\cdot\\{q_+ - q_-\\}\\,dS + \\ldots = 0$$\n",
    "\n",
    "for all test functions $q$.\n",
    "**If we pick some cell $K$ of the mesh and take $q = 1$ in $K$ and $q = 0$ elsewhere, this discretization is the same as the finite volume method!**\n",
    "The interesting things happen when we use higher degree polynomials, which I'll show later.\n",
    "\n",
    "(There's a bit of a subtlety here in that you don't really know which is the + side and which is the - side, but the form you write down has to come out the same if you flip all the signs.\n",
    "So if it matters you did something wrong!)\n",
    "\n",
    "We left off some boundary terms in the last equation to focus on the fluxes, so let's figure out the rest now.\n",
    "Let $h_\\text{in}$ be the value of $h$ on the inflow boundary; the boundary forcing is:\n",
    "\n",
    "$$\\ldots = \\int_{\\partial\\Omega} h_{\\text{in}}\\min\\{u\\cdot n, 0\\}q\\, ds + \\int_{\\partial\\Omega} h\\max\\{u\\cdot n, 0\\}q\\, ds.$$\n",
    "\n",
    "We've now got all the pieces in place to actually express our problem."
   ]
  },
  {
   "cell_type": "markdown",
   "metadata": {},
   "source": [
    "##### Show me the code already\n",
    "\n",
    "First, we'll import some more members from Firedrake.\n",
    "In the last example, we used the measure `dx` to represent integration over the entire spatial domain.\n",
    "Here we also need a measure `ds` to represent integration over the edges on the boundary of the domain, and a measure `dS` for integration over all of the interior edges."
   ]
  },
  {
   "cell_type": "code",
   "execution_count": null,
   "metadata": {},
   "outputs": [],
   "source": [
    "from firedrake import grad, dx, ds, dS"
   ]
  },
  {
   "cell_type": "markdown",
   "metadata": {},
   "source": [
    "We've already seen several times how to get a symbolic object from a mesh that represents points inside the domain.\n",
    "To solve hyperbolic problems, we'll also need a symbolic object to represent the unit outward normal vector to a cell or to the domain boundary:"
   ]
  },
  {
   "cell_type": "code",
   "execution_count": null,
   "metadata": {},
   "outputs": [],
   "source": [
    "n = firedrake.FacetNormal(mesh)"
   ]
  },
  {
   "cell_type": "markdown",
   "metadata": {},
   "source": [
    "Once we've created variables for the solution and for the test function we can create all the parts of the weak form in a way that looks nearly identical to the math."
   ]
  },
  {
   "cell_type": "code",
   "execution_count": null,
   "metadata": {},
   "outputs": [],
   "source": [
    "h = h0.copy(deepcopy=True)\n",
    "q = firedrake.TestFunction(Q)\n",
    "\n",
    "F = h * max_value(inner(u, n), 0)\n",
    "edge_flux = (F('+') - F('-')) * (q('+') - q('-')) * dS\n",
    "\n",
    "in_flux = h0 * min_value(inner(u, n), 0) * q * ds\n",
    "out_flux = h * max_value(inner(u, n), 0) * q * ds\n",
    "\n",
    "dh_dt = -(edge_flux + in_flux + out_flux)\n",
    "\n",
    "p = firedrake.TrialFunction(Q)\n",
    "M = p * q * dx"
   ]
  },
  {
   "cell_type": "markdown",
   "metadata": {},
   "source": [
    "Now to actually solve it, we need a timestep $\\delta t$ that satisfies the Courant-Friedrichs-Lewy condition:\n",
    "\n",
    "$$\\frac{\\delta x}{\\delta t} > \\max|u|,$$\n",
    "\n",
    "where $\\delta x$ is the smallest diameter of any cell of the mesh."
   ]
  },
  {
   "cell_type": "code",
   "execution_count": null,
   "metadata": {},
   "outputs": [],
   "source": [
    "import numpy as np\n",
    "dx_min = mesh.cell_sizes.dat.data_ro.min()\n",
    "u_max = 1.\n",
    "timestep = dx_min / u_max / 2\n",
    "\n",
    "final_time = 2 * np.pi\n",
    "num_steps = int(final_time / timestep) + 1\n",
    "dt = firedrake.Constant(final_time / num_steps)"
   ]
  },
  {
   "cell_type": "markdown",
   "metadata": {},
   "source": [
    "This is magic and you can ignore it.\n",
    "If you want me to explain it I will."
   ]
  },
  {
   "cell_type": "code",
   "execution_count": null,
   "metadata": {},
   "outputs": [],
   "source": [
    "parameters = {\n",
    "    'solver_parameters': {\n",
    "        'ksp_type': 'preonly',\n",
    "        'pc_type': 'bjacobi',\n",
    "        'sub_pc_type': 'ilu'\n",
    "    }\n",
    "}"
   ]
  },
  {
   "cell_type": "markdown",
   "metadata": {},
   "source": [
    "Rather than solve the PDE for $h$ directly, we'll solve for the increment over one timestep.\n",
    "(When you use Runge-Kutta methods this makes things much easier.)"
   ]
  },
  {
   "cell_type": "code",
   "execution_count": null,
   "metadata": {},
   "outputs": [],
   "source": [
    "import tqdm\n",
    "dh = firedrake.Function(Q)\n",
    "for step in tqdm.trange(num_steps):\n",
    "    firedrake.solve(M == dt * dh_dt, dh, **parameters)\n",
    "    h.assign(h + dh)"
   ]
  },
  {
   "cell_type": "markdown",
   "metadata": {},
   "source": [
    "The result looks pretty diffused out, which is exactly what we expect for the first-order finite volume method."
   ]
  },
  {
   "cell_type": "code",
   "execution_count": null,
   "metadata": {},
   "outputs": [],
   "source": [
    "fig, axes = plt.subplots()\n",
    "triangles = firedrake.tripcolor(h, axes=axes)\n",
    "fig.colorbar(triangles)"
   ]
  },
  {
   "cell_type": "markdown",
   "metadata": {},
   "source": [
    "To machine precision, the total mass is conserved though, so that's a good *smoke test*."
   ]
  },
  {
   "cell_type": "code",
   "execution_count": null,
   "metadata": {},
   "outputs": [],
   "source": [
    "firedrake.assemble((h - h0) * dx)"
   ]
  },
  {
   "cell_type": "markdown",
   "metadata": {},
   "source": [
    "Let's see if we can get something more accurate."
   ]
  },
  {
   "cell_type": "markdown",
   "metadata": {},
   "source": [
    "### Higher order\n",
    "\n",
    "We could get a more accurate simulation by increasing the number of mesh cells.\n",
    "Alternatively, we could use higher-degree basis functions, which I'll show below.\n",
    "First, we'll create a new function space and project the initial data into that space."
   ]
  },
  {
   "cell_type": "code",
   "execution_count": null,
   "metadata": {},
   "outputs": [],
   "source": [
    "Q1 = firedrake.FunctionSpace(mesh, family='DG', degree=1)\n",
    "h1 = firedrake.project(max_value(1 - r / R, 0), Q1)"
   ]
  },
  {
   "cell_type": "code",
   "execution_count": null,
   "metadata": {},
   "outputs": [],
   "source": [
    "fig, axes = plt.subplots()\n",
    "triangles = firedrake.tripcolor(h1, axes=axes)\n",
    "fig.colorbar(triangles)"
   ]
  },
  {
   "cell_type": "markdown",
   "metadata": {},
   "source": [
    "Much of what we did before still applies."
   ]
  },
  {
   "cell_type": "code",
   "execution_count": null,
   "metadata": {},
   "outputs": [],
   "source": [
    "h = h1.copy(deepcopy=True)\n",
    "q = firedrake.TestFunction(Q1)\n",
    "\n",
    "F = h * max_value(inner(u, n), 0)\n",
    "edge_flux = (F('+') - F('-')) * (q('+') - q('-')) * dS\n",
    "\n",
    "in_flux = h1 * min_value(inner(u, n), 0) * q * ds\n",
    "out_flux = h * max_value(inner(u, n), 0) * q * ds"
   ]
  },
  {
   "cell_type": "markdown",
   "metadata": {},
   "source": [
    "But with higher-degree elements there's one extra bit!\n",
    "In addition to the material flux across element boundaries, there's also flux within a cell itself.\n",
    "The main part of the weak form for higher-degree elements is:\n",
    "\n",
    "$$\\int_\\Omega\\left(\\frac{\\partial h}{\\partial t}q - \\underbrace{hu\\cdot\\nabla q}_{\\text{cell flux}}\\right)dx + \\sum_E\\int_E(F_+ - F_-)(q_+ - q_-)dS + \\ldots = 0$$\n",
    "\n",
    "This weak form also works perfectly well when the shape functions are degree 0, but the gradient of a test function within each cell is zero, so the internal cell fluxes are trivial."
   ]
  },
  {
   "cell_type": "code",
   "execution_count": null,
   "metadata": {},
   "outputs": [],
   "source": [
    "cell_flux = -h * inner(u, grad(q)) * dx"
   ]
  },
  {
   "cell_type": "markdown",
   "metadata": {},
   "source": [
    "There's one extra term in the rate of change of $h$."
   ]
  },
  {
   "cell_type": "code",
   "execution_count": null,
   "metadata": {},
   "outputs": [],
   "source": [
    "dh_dt = -(cell_flux + edge_flux + in_flux + out_flux)\n",
    "\n",
    "p = firedrake.TrialFunction(Q1)\n",
    "M = p * q * dx"
   ]
  },
  {
   "cell_type": "markdown",
   "metadata": {},
   "source": [
    "We have to be more careful about the timestep -- the CFL condition is *much* more stringent for higher degree elements.\n",
    "Here we're using a fudge factor of 16 rather than 2."
   ]
  },
  {
   "cell_type": "code",
   "execution_count": null,
   "metadata": {},
   "outputs": [],
   "source": [
    "timestep = dx_min / u_max / 16\n",
    "\n",
    "final_time = 2 * np.pi\n",
    "num_steps = int(final_time / timestep) + 1\n",
    "dt = firedrake.Constant(final_time / num_steps)"
   ]
  },
  {
   "cell_type": "markdown",
   "metadata": {},
   "source": [
    "Observe how each timestep is more expensive and we have to take more of them!"
   ]
  },
  {
   "cell_type": "code",
   "execution_count": null,
   "metadata": {},
   "outputs": [],
   "source": [
    "dh = firedrake.Function(Q1)\n",
    "for step in tqdm.trange(num_steps):\n",
    "    firedrake.solve(M == dt * dh_dt, dh, **parameters)\n",
    "    h.assign(h + dh)"
   ]
  },
  {
   "cell_type": "markdown",
   "metadata": {},
   "source": [
    "But the results are a lot better."
   ]
  },
  {
   "cell_type": "code",
   "execution_count": null,
   "metadata": {},
   "outputs": [],
   "source": [
    "fig, axes = plt.subplots()\n",
    "triangles = firedrake.tripcolor(h, axes=axes)\n",
    "fig.colorbar(triangles)"
   ]
  },
  {
   "cell_type": "markdown",
   "metadata": {},
   "source": [
    "The relative error in the 1-norm is much smaller."
   ]
  },
  {
   "cell_type": "code",
   "execution_count": null,
   "metadata": {},
   "outputs": [],
   "source": [
    "firedrake.assemble(abs(h - h1) * dx) / firedrake.assemble(h1 * dx)"
   ]
  },
  {
   "cell_type": "markdown",
   "metadata": {},
   "source": [
    "But observe how the solution undershoots now -- it's taken on negative values, despite the fact that the initial value is strictly positive.\n",
    "To remedy this, we need to look into limiters."
   ]
  }
 ],
 "metadata": {
  "kernelspec": {
   "display_name": "firedrake",
   "language": "python",
   "name": "firedrake"
  },
  "language_info": {
   "codemirror_mode": {
    "name": "ipython",
    "version": 3
   },
   "file_extension": ".py",
   "mimetype": "text/x-python",
   "name": "python",
   "nbconvert_exporter": "python",
   "pygments_lexer": "ipython3",
   "version": "3.7.4"
  }
 },
 "nbformat": 4,
 "nbformat_minor": 4
}
