{
 "cells": [
  {
   "cell_type": "code",
   "execution_count": null,
   "metadata": {},
   "outputs": [],
   "source": [
    "%matplotlib notebook\n",
    "import matplotlib.pyplot as plt\n",
    "from mpl_toolkits import mplot3d\n",
    "import firedrake"
   ]
  },
  {
   "cell_type": "markdown",
   "metadata": {},
   "source": [
    "### Meshes\n",
    "\n",
    "First, we'll create a mesh of the unit square.\n",
    "Later, I'll show an example where we use a more interesting geometry."
   ]
  },
  {
   "cell_type": "code",
   "execution_count": null,
   "metadata": {},
   "outputs": [],
   "source": [
    "mesh = firedrake.UnitSquareMesh(20, 20)"
   ]
  },
  {
   "cell_type": "markdown",
   "metadata": {},
   "source": [
    "Here I'll make a plot of the mesh we just created.\n",
    "It's very common to need different boundary conditions on different parts of the domain.\n",
    "To make that easy, you can assign numeric identifies to each part of the boundary.\n",
    "The plot below uses different colors for each boundary segment with a legend so you can tell which is which."
   ]
  },
  {
   "cell_type": "code",
   "execution_count": null,
   "metadata": {},
   "outputs": [],
   "source": [
    "fig, axes = plt.subplots()\n",
    "axes.set_aspect('equal')\n",
    "firedrake.triplot(mesh, axes=axes)\n",
    "axes.legend()"
   ]
  },
  {
   "cell_type": "markdown",
   "metadata": {},
   "source": [
    "### Functions and function spaces\n",
    "\n",
    "Now let's create a function space defined on that mesh.\n",
    "Here we'll use continuous Galerkin (`'CG'`) finite elements.\n",
    "There are also various families of discontinuous elements and we'll see a bit of that later.\n",
    "We'll pick the polynomial degree to be 2, but you could just as easily use 1 or 3 or whatever you like."
   ]
  },
  {
   "cell_type": "code",
   "execution_count": null,
   "metadata": {},
   "outputs": [],
   "source": [
    "Q = firedrake.FunctionSpace(mesh, family='CG', degree=2)"
   ]
  },
  {
   "cell_type": "markdown",
   "metadata": {},
   "source": [
    "Now we'll create the right-hand side for our problem, which in this case will be the function\n",
    "\n",
    "$$f(x, y) = x^2 - y^2.$$\n",
    "\n",
    "To do this, we'll first use the function `SpatialCoordinate` on the mesh to get two variables `x`, `y` which represent the position of a point within the mesh.\n",
    "These variables are symbolic objects which we can manipulate algebraically to form more interesting expressions.\n",
    "We'll use that capability to create a variable `f` that represents our right-hand side."
   ]
  },
  {
   "cell_type": "code",
   "execution_count": null,
   "metadata": {},
   "outputs": [],
   "source": [
    "x, y = firedrake.SpatialCoordinate(mesh)\n",
    "f = x**2 - y**2"
   ]
  },
  {
   "cell_type": "markdown",
   "metadata": {},
   "source": [
    "The variable `f` is again a *symbolic* object -- it doesn't have an expansion coefficients, there's no big array of number living underneath it.\n",
    "We can convert it into a numeric object by *interpolating* it into the finite element space $Q$ that we created above."
   ]
  },
  {
   "cell_type": "code",
   "execution_count": null,
   "metadata": {},
   "outputs": [],
   "source": [
    "F = firedrake.interpolate(f, Q)"
   ]
  },
  {
   "cell_type": "markdown",
   "metadata": {},
   "source": [
    "The variable `F` does have a big array of expansion coefficients under the hood:"
   ]
  },
  {
   "cell_type": "code",
   "execution_count": null,
   "metadata": {},
   "outputs": [],
   "source": [
    "F.dat.data_ro"
   ]
  },
  {
   "cell_type": "markdown",
   "metadata": {},
   "source": [
    "We can also plot it:"
   ]
  },
  {
   "cell_type": "code",
   "execution_count": null,
   "metadata": {},
   "outputs": [],
   "source": [
    "fig = plt.figure()\n",
    "axes = fig.add_subplot(projection='3d')\n",
    "firedrake.trisurf(F, axes=axes)"
   ]
  },
  {
   "cell_type": "markdown",
   "metadata": {},
   "source": [
    "### Evaluating integrals\n",
    "\n",
    "Let's do one more thing before we actually get down to solving PDEs: evaluating integrals.\n",
    "To evaluate the integral of a function on some domain, we multiply that function by the symbol `dx`.\n",
    "Much like the `x` and `y` variables we created before, `dx` is a symbolic object that tells Firedrake that we're about to integrate something."
   ]
  },
  {
   "cell_type": "code",
   "execution_count": null,
   "metadata": {},
   "outputs": [],
   "source": [
    "from firedrake import dx\n",
    "integral = f * dx"
   ]
  },
  {
   "cell_type": "markdown",
   "metadata": {},
   "source": [
    "Once again, the object `f * dx` is just symbolic -- it represents something that we can integrate, it isn't a floating point number yet.\n",
    "To get a number, we use the function `assemble`:"
   ]
  },
  {
   "cell_type": "code",
   "execution_count": null,
   "metadata": {},
   "outputs": [],
   "source": [
    "from firedrake import assemble\n",
    "assemble(integral)"
   ]
  },
  {
   "cell_type": "markdown",
   "metadata": {},
   "source": [
    "We can do algebraic manipulations on `f` as well:"
   ]
  },
  {
   "cell_type": "code",
   "execution_count": null,
   "metadata": {},
   "outputs": [],
   "source": [
    "assemble(f**2 * dx)"
   ]
  },
  {
   "cell_type": "markdown",
   "metadata": {},
   "source": [
    "Instead of integrating over the whole domain, we could also integrate over just the boundary by using the symbol `ds` instead of `dx`:"
   ]
  },
  {
   "cell_type": "code",
   "execution_count": null,
   "metadata": {},
   "outputs": [],
   "source": [
    "from firedrake import ds\n",
    "assemble(f**2 * ds)"
   ]
  },
  {
   "cell_type": "markdown",
   "metadata": {},
   "source": [
    "To use the weighted residual method, you need to be able to evaluate integrals, so you can see why this is a pretty important functionality to have."
   ]
  },
  {
   "cell_type": "markdown",
   "metadata": {},
   "source": [
    "### Solving PDEs\n",
    "\n",
    "Before, we created symbolic objects `x` and `y` to represent points within our domain, and we created expressions by manipulating them algebraically.\n",
    "We then used these expressions to create functions.\n",
    "To define what PDE we want to solve, we'll proceed in a similar way, but instead we'll be creating symbolic objects to represent the trial functions (the solution) and the test functions (the things we want our solution to be orthogonal to)."
   ]
  },
  {
   "cell_type": "code",
   "execution_count": null,
   "metadata": {},
   "outputs": [],
   "source": [
    "u, v = firedrake.TrialFunction(Q), firedrake.TestFunction(Q)"
   ]
  },
  {
   "cell_type": "markdown",
   "metadata": {},
   "source": [
    "When we created expressions out of the spatial coordinates, we could use all the usual algebraic operations (adding, multiplying, exponentiating) and some transcendental functions too (sin, cos, exp).\n",
    "When we create weak forms out of test and trial functions, we'll want to talk about their derivatives.\n",
    "To do that we use the function `grad` or gradient.\n",
    "The gradient of a scalar field is a vector field; the function `inner` calculates the inner product of two vectors or vector fields."
   ]
  },
  {
   "cell_type": "code",
   "execution_count": null,
   "metadata": {},
   "outputs": [],
   "source": [
    "from firedrake import inner, grad\n",
    "a = inner(grad(u), grad(v)) * dx\n",
    "L = f * v * dx"
   ]
  },
  {
   "cell_type": "markdown",
   "metadata": {},
   "source": [
    "To have a well-posed problem, we'll also need some boundary conditions.\n",
    "Here we'll specify that the solution is fixed to zero around all edges of the domain, but you can play with this later."
   ]
  },
  {
   "cell_type": "code",
   "execution_count": null,
   "metadata": {},
   "outputs": [],
   "source": [
    "bc = firedrake.DirichletBC(Q, 0, 'on_boundary')"
   ]
  },
  {
   "cell_type": "markdown",
   "metadata": {},
   "source": [
    "Now the trial and test functions are symbolic objects, but if we want to actually solve the problem we need a real honest numeric function that has an array of expansion coefficients somewhere under the hood.\n",
    "So we'll create a new variable `u` that lives in the function space `Q`; this is where the solution will go.\n",
    "Finally, we'll pass our problem, the function where we want to store the solution, and the boundary conditions to `firedrake.solve`."
   ]
  },
  {
   "cell_type": "code",
   "execution_count": null,
   "metadata": {},
   "outputs": [],
   "source": [
    "u = firedrake.Function(Q)\n",
    "firedrake.solve(a == L, u, bc)"
   ]
  },
  {
   "cell_type": "markdown",
   "metadata": {},
   "source": [
    "And a visualization of the result."
   ]
  },
  {
   "cell_type": "code",
   "execution_count": null,
   "metadata": {},
   "outputs": [],
   "source": [
    "fig = plt.figure()\n",
    "axes = fig.add_subplot(projection='3d')\n",
    "firedrake.trisurf(u, axes=axes)"
   ]
  }
 ],
 "metadata": {
  "kernelspec": {
   "display_name": "firedrake",
   "language": "python",
   "name": "firedrake"
  },
  "language_info": {
   "codemirror_mode": {
    "name": "ipython",
    "version": 3
   },
   "file_extension": ".py",
   "mimetype": "text/x-python",
   "name": "python",
   "nbconvert_exporter": "python",
   "pygments_lexer": "ipython3",
   "version": "3.7.4"
  }
 },
 "nbformat": 4,
 "nbformat_minor": 4
}
