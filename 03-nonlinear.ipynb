{
 "cells": [
  {
   "cell_type": "code",
   "execution_count": null,
   "metadata": {},
   "outputs": [],
   "source": [
    "%matplotlib notebook\n",
    "import matplotlib.pyplot as plt\n",
    "from mpl_toolkits import mplot3d\n",
    "import firedrake\n",
    "from firedrake import inner, grad, dx, assemble, Constant"
   ]
  },
  {
   "cell_type": "markdown",
   "metadata": {},
   "source": [
    "### Nonlinear problems\n",
    "\n",
    "The syntax for solving nonlinear problems is very similar to that of linear problems.\n",
    "For comparison, we'll again solve the linear Poisson equation with right-hand side $x^2 - y^2$.\n",
    "Instead of the `a == L` syntax we used before where `a` represented the stiffness matrix and `L` the right-hand side vector, we'll instead just write it as a big nonlinear equation `F == 0`."
   ]
  },
  {
   "cell_type": "code",
   "execution_count": null,
   "metadata": {},
   "outputs": [],
   "source": [
    "mesh = firedrake.UnitSquareMesh(20, 20)\n",
    "Q = firedrake.FunctionSpace(mesh, family='CG', degree=2)\n",
    "v = firedrake.TestFunction(Q)\n",
    "bc = firedrake.DirichletBC(Q, 0., 'on_boundary')"
   ]
  },
  {
   "cell_type": "code",
   "execution_count": null,
   "metadata": {},
   "outputs": [],
   "source": [
    "x, y = firedrake.SpatialCoordinate(mesh)\n",
    "f = x**2 - y**2"
   ]
  },
  {
   "cell_type": "code",
   "execution_count": null,
   "metadata": {},
   "outputs": [],
   "source": [
    "u_l = firedrake.Function(Q)\n",
    "k = firedrake.Constant(1.)\n",
    "F_l = (k * inner(grad(u_l), grad(v)) - f * v) * dx"
   ]
  },
  {
   "cell_type": "code",
   "execution_count": null,
   "metadata": {},
   "outputs": [],
   "source": [
    "firedrake.solve(F_l == 0, u_l, bc)"
   ]
  },
  {
   "cell_type": "markdown",
   "metadata": {},
   "source": [
    "Now let's solve a nonlinear problem.\n",
    "In order to make the input data interesting enough, we'll first calculate the mean-square average of the gradient of the linear solution, which we're storing in the variable `g`."
   ]
  },
  {
   "cell_type": "code",
   "execution_count": null,
   "metadata": {},
   "outputs": [],
   "source": [
    "import numpy as np\n",
    "area = assemble(Constant(1) * dx(mesh))\n",
    "g = np.sqrt(assemble(inner(grad(u_l), grad(u_l)) * dx) / area)"
   ]
  },
  {
   "cell_type": "markdown",
   "metadata": {},
   "source": [
    "Now we'll solve a problem where the diffusivity is nonlinear:\n",
    "\n",
    "$$\\int_\\Omega\\left(k\\nabla u \\cdot \\nabla v - f\\cdot v\\right)dx = 0$$\n",
    "\n",
    "for all $v$, where now\n",
    "\n",
    "$$k = 1 + g^{-2}|\\nabla u|^2.$$\n",
    "\n",
    "Since the diffusivity is overall higher for the nonlinear problem, we should see a less pronounced solution."
   ]
  },
  {
   "cell_type": "code",
   "execution_count": null,
   "metadata": {},
   "outputs": [],
   "source": [
    "u = firedrake.Function(Q)\n",
    "L = 1 / g\n",
    "k = 1 + Constant(L)**2 * inner(grad(u), grad(u))\n",
    "F = (k * inner(grad(u), grad(v)) - f * v) * dx"
   ]
  },
  {
   "cell_type": "markdown",
   "metadata": {},
   "source": [
    "Under the hood, Firedrake is calling out to nonlinear solvers in the library [PETSc](https://www.mcs.anl.gov/petsc/), specifically a Newton line-search procedure.\n",
    "The rough idea is that, given a guess $u_n$ for the solution, we compute a *search direction*\n",
    "\n",
    "$$v_n = -dF(u_n)^{-1}F(u_n),$$\n",
    "\n",
    "and then we find a *step length* $\\alpha_n$ such that\n",
    "\n",
    "$$u_{n + 1} = u_n + \\alpha_n\\cdot v_n$$\n",
    "\n",
    "is a better guess."
   ]
  },
  {
   "cell_type": "code",
   "execution_count": null,
   "metadata": {},
   "outputs": [],
   "source": [
    "firedrake.solve(F == 0, u, bc)"
   ]
  },
  {
   "cell_type": "markdown",
   "metadata": {},
   "source": [
    "Now that we've found a solution, we'd like to get a single number to show how much it differs from the solution of the linear problem.\n",
    "The `norm` function calculates the $L^2$ norm of its argument:\n",
    "\n",
    "$$\\|u\\|_{L^2} = \\left(\\int_\\Omega|u|^2\\, dx\\right)^{1/2}$$\n",
    "\n",
    "This is a quick way to get a feel for how much two fields differ."
   ]
  },
  {
   "cell_type": "code",
   "execution_count": null,
   "metadata": {},
   "outputs": [],
   "source": [
    "firedrake.norm(u - u_l) / firedrake.norm(u_l)"
   ]
  },
  {
   "cell_type": "markdown",
   "metadata": {},
   "source": [
    "Finally we'll plot the two solutions, the linear one grey and almost transparent, and the nonlinear one in solid colors.\n",
    "(Matplotlib isn't great for this so you might have to rotate it around a bit.)"
   ]
  },
  {
   "cell_type": "code",
   "execution_count": null,
   "metadata": {},
   "outputs": [],
   "source": [
    "fig = plt.figure()\n",
    "axes = fig.add_subplot(projection='3d')\n",
    "firedrake.trisurf(u_l, alpha=0.25, cmap='Greys_r', axes=axes)\n",
    "firedrake.trisurf(u, axes=axes)"
   ]
  }
 ],
 "metadata": {
  "kernelspec": {
   "display_name": "firedrake",
   "language": "python",
   "name": "firedrake"
  },
  "language_info": {
   "codemirror_mode": {
    "name": "ipython",
    "version": 3
   },
   "file_extension": ".py",
   "mimetype": "text/x-python",
   "name": "python",
   "nbconvert_exporter": "python",
   "pygments_lexer": "ipython3",
   "version": "3.7.4"
  }
 },
 "nbformat": 4,
 "nbformat_minor": 4
}
